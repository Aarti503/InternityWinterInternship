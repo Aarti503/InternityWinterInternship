{
 "cells": [
  {
   "cell_type": "code",
   "execution_count": null,
   "metadata": {},
   "outputs": [],
   "source": [
    "import pandas as pd\n",
    "import json\n",
    "from bs4 import BeautifulSoup\n",
    "from urllib.request import urlopen\n",
    "html = urlopen(\"https://github.com/robert456456456456/Web_server_log_parser/blob/master/devops.log\")\n",
    "bsObj = BeautifulSoup(html.read())\n"
   ]
  },
  {
   "cell_type": "code",
   "execution_count": 20,
   "metadata": {},
   "outputs": [],
   "source": [
    "url = \"https://github.com/robert456456456456/Web_server_log_parser/blob/master/devops.log\""
   ]
  },
  {
   "cell_type": "code",
   "execution_count": 35,
   "metadata": {},
   "outputs": [
    {
     "name": "stdout",
     "output_type": "stream",
     "text": [
      "Enter Link To Read Data https://github.com/robert456456456456/Web_server_log_parser/blob/master/devops.log\n",
      "[       0                                                  1\n",
      "0    NaN  64.242.88.10 - - [07/Mar/2004:16:05:49 -0800] ...\n",
      "1    NaN  64.242.88.10 - - [07/Mar/2004:16:06:51 -0800] ...\n",
      "2    NaN  64.242.88.10 - - [07/Mar/2004:16:10:02 -0800] ...\n",
      "3    NaN  64.242.88.10 - - [07/Mar/2004:16:11:58 -0800] ...\n",
      "4    NaN  64.242.88.10 - - [07/Mar/2004:16:20:55 -0800] ...\n",
      "...   ..                                                ...\n",
      "1541 NaN  10.0.0.153 - - [12/Mar/2004:12:23:41 -0800] \"G...\n",
      "1542 NaN  10.0.0.153 - - [12/Mar/2004:12:23:41 -0800] \"G...\n",
      "1543 NaN  216.139.185.45 - - [12/Mar/2004:13:04:01 -0800...\n",
      "1544 NaN  pd95f99f2.dip.t-dialin.net - - [12/Mar/2004:13...\n",
      "1545 NaN  d97082.upc-d.chello.nl - - [12/Mar/2004:13:25:...\n",
      "\n",
      "[1546 rows x 2 columns]]\n"
     ]
    }
   ],
   "source": [
    "def read_data(link):\n",
    "    x = pd.read_html(link)\n",
    "    print(x)\n",
    "link = input(\"Enter Link To Read Data \")\n",
    "read_data(link)"
   ]
  },
  {
   "cell_type": "code",
   "execution_count": 56,
   "metadata": {},
   "outputs": [],
   "source": [
    "def cleaner(df):\n",
    "    df = pd.DataFrame(list(df[1].apply(lambda x: x.split())))\n",
    "    df[3] = df[3].apply(lambda x: x.replace('[','') )\n",
    "    df[4] = df[4].apply(lambda x: x.replace(']','') )\n",
    "    df[5] = df.apply(lambda x : ' '.join([x[5],x[6]]).replace('\"',''), axis = 1)\n",
    "    df.drop([1,2,7,6],inplace=True,axis = 1)\n",
    "    df.filter(regex ='(?P<ip>[.:0-9a-fA-F]+) - - \\[(?P<time>.*?)\\] \"\\\\b(GET|POST|HEAD|PUT|OPTIONS|DELETE|CONNECT|TRACE)\\\\b (?P<uri>.*?) HTTP/1.\\d\" (?P<status_code>\\d+) (?P<bytes_tranfered>\\d+) \"(?P<referral>.*?)\" \"(?P<agent>.*?)\"')\n",
    "    return df"
   ]
  },
  {
   "cell_type": "code",
   "execution_count": 57,
   "metadata": {},
   "outputs": [
    {
     "data": {
      "text/html": [
       "<div>\n",
       "<style scoped>\n",
       "    .dataframe tbody tr th:only-of-type {\n",
       "        vertical-align: middle;\n",
       "    }\n",
       "\n",
       "    .dataframe tbody tr th {\n",
       "        vertical-align: top;\n",
       "    }\n",
       "\n",
       "    .dataframe thead th {\n",
       "        text-align: right;\n",
       "    }\n",
       "</style>\n",
       "<table border=\"1\" class=\"dataframe\">\n",
       "  <thead>\n",
       "    <tr style=\"text-align: right;\">\n",
       "      <th></th>\n",
       "      <th>User Address</th>\n",
       "      <th>Date/Time</th>\n",
       "      <th>GMT Offset</th>\n",
       "      <th>Action</th>\n",
       "      <th>Return Code</th>\n",
       "      <th>Size</th>\n",
       "    </tr>\n",
       "  </thead>\n",
       "  <tbody>\n",
       "    <tr>\n",
       "      <th>0</th>\n",
       "      <td>64.242.88.10</td>\n",
       "      <td>07/Mar/2004:16:05:49</td>\n",
       "      <td>-0800</td>\n",
       "      <td>GET /twiki/bin/edit/Main/Double_bounce_sender?...</td>\n",
       "      <td>401</td>\n",
       "      <td>12846</td>\n",
       "    </tr>\n",
       "    <tr>\n",
       "      <th>1</th>\n",
       "      <td>64.242.88.10</td>\n",
       "      <td>07/Mar/2004:16:06:51</td>\n",
       "      <td>-0800</td>\n",
       "      <td>GET /twiki/bin/rdiff/TWiki/NewUserTemplate?rev...</td>\n",
       "      <td>200</td>\n",
       "      <td>4523</td>\n",
       "    </tr>\n",
       "    <tr>\n",
       "      <th>2</th>\n",
       "      <td>64.242.88.10</td>\n",
       "      <td>07/Mar/2004:16:10:02</td>\n",
       "      <td>-0800</td>\n",
       "      <td>GET /mailman/listinfo/hsdivision</td>\n",
       "      <td>200</td>\n",
       "      <td>6291</td>\n",
       "    </tr>\n",
       "    <tr>\n",
       "      <th>3</th>\n",
       "      <td>64.242.88.10</td>\n",
       "      <td>07/Mar/2004:16:11:58</td>\n",
       "      <td>-0800</td>\n",
       "      <td>GET /twiki/bin/view/TWiki/WikiSyntax</td>\n",
       "      <td>200</td>\n",
       "      <td>7352</td>\n",
       "    </tr>\n",
       "    <tr>\n",
       "      <th>4</th>\n",
       "      <td>64.242.88.10</td>\n",
       "      <td>07/Mar/2004:16:20:55</td>\n",
       "      <td>-0800</td>\n",
       "      <td>GET /twiki/bin/view/Main/DCCAndPostFix</td>\n",
       "      <td>200</td>\n",
       "      <td>5253</td>\n",
       "    </tr>\n",
       "    <tr>\n",
       "      <th>...</th>\n",
       "      <td>...</td>\n",
       "      <td>...</td>\n",
       "      <td>...</td>\n",
       "      <td>...</td>\n",
       "      <td>...</td>\n",
       "      <td>...</td>\n",
       "    </tr>\n",
       "    <tr>\n",
       "      <th>1541</th>\n",
       "      <td>10.0.0.153</td>\n",
       "      <td>12/Mar/2004:12:23:41</td>\n",
       "      <td>-0800</td>\n",
       "      <td>GET /dccstats/stats-spam-ratio.1year.png</td>\n",
       "      <td>200</td>\n",
       "      <td>1906</td>\n",
       "    </tr>\n",
       "    <tr>\n",
       "      <th>1542</th>\n",
       "      <td>10.0.0.153</td>\n",
       "      <td>12/Mar/2004:12:23:41</td>\n",
       "      <td>-0800</td>\n",
       "      <td>GET /dccstats/stats-hashes.1year.png</td>\n",
       "      <td>200</td>\n",
       "      <td>1582</td>\n",
       "    </tr>\n",
       "    <tr>\n",
       "      <th>1543</th>\n",
       "      <td>216.139.185.45</td>\n",
       "      <td>12/Mar/2004:13:04:01</td>\n",
       "      <td>-0800</td>\n",
       "      <td>GET /mailman/listinfo/webber</td>\n",
       "      <td>200</td>\n",
       "      <td>6051</td>\n",
       "    </tr>\n",
       "    <tr>\n",
       "      <th>1544</th>\n",
       "      <td>pd95f99f2.dip.t-dialin.net</td>\n",
       "      <td>12/Mar/2004:13:18:57</td>\n",
       "      <td>-0800</td>\n",
       "      <td>GET /razor.html</td>\n",
       "      <td>200</td>\n",
       "      <td>2869</td>\n",
       "    </tr>\n",
       "    <tr>\n",
       "      <th>1545</th>\n",
       "      <td>d97082.upc-d.chello.nl</td>\n",
       "      <td>12/Mar/2004:13:25:45</td>\n",
       "      <td>-0800</td>\n",
       "      <td>GET /SpamAssassin.html</td>\n",
       "      <td>200</td>\n",
       "      <td>7368</td>\n",
       "    </tr>\n",
       "  </tbody>\n",
       "</table>\n",
       "<p>1546 rows × 6 columns</p>\n",
       "</div>"
      ],
      "text/plain": [
       "                    User Address             Date/Time GMT Offset  \\\n",
       "0                   64.242.88.10  07/Mar/2004:16:05:49      -0800   \n",
       "1                   64.242.88.10  07/Mar/2004:16:06:51      -0800   \n",
       "2                   64.242.88.10  07/Mar/2004:16:10:02      -0800   \n",
       "3                   64.242.88.10  07/Mar/2004:16:11:58      -0800   \n",
       "4                   64.242.88.10  07/Mar/2004:16:20:55      -0800   \n",
       "...                          ...                   ...        ...   \n",
       "1541                  10.0.0.153  12/Mar/2004:12:23:41      -0800   \n",
       "1542                  10.0.0.153  12/Mar/2004:12:23:41      -0800   \n",
       "1543              216.139.185.45  12/Mar/2004:13:04:01      -0800   \n",
       "1544  pd95f99f2.dip.t-dialin.net  12/Mar/2004:13:18:57      -0800   \n",
       "1545      d97082.upc-d.chello.nl  12/Mar/2004:13:25:45      -0800   \n",
       "\n",
       "                                                 Action Return Code   Size  \n",
       "0     GET /twiki/bin/edit/Main/Double_bounce_sender?...         401  12846  \n",
       "1     GET /twiki/bin/rdiff/TWiki/NewUserTemplate?rev...         200   4523  \n",
       "2                      GET /mailman/listinfo/hsdivision         200   6291  \n",
       "3                  GET /twiki/bin/view/TWiki/WikiSyntax         200   7352  \n",
       "4                GET /twiki/bin/view/Main/DCCAndPostFix         200   5253  \n",
       "...                                                 ...         ...    ...  \n",
       "1541           GET /dccstats/stats-spam-ratio.1year.png         200   1906  \n",
       "1542               GET /dccstats/stats-hashes.1year.png         200   1582  \n",
       "1543                       GET /mailman/listinfo/webber         200   6051  \n",
       "1544                                    GET /razor.html         200   2869  \n",
       "1545                             GET /SpamAssassin.html         200   7368  \n",
       "\n",
       "[1546 rows x 6 columns]"
      ]
     },
     "execution_count": 57,
     "metadata": {},
     "output_type": "execute_result"
    }
   ],
   "source": [
    "df"
   ]
  },
  {
   "cell_type": "code",
   "execution_count": 58,
   "metadata": {},
   "outputs": [
    {
     "data": {
      "text/html": [
       "<div>\n",
       "<style scoped>\n",
       "    .dataframe tbody tr th:only-of-type {\n",
       "        vertical-align: middle;\n",
       "    }\n",
       "\n",
       "    .dataframe tbody tr th {\n",
       "        vertical-align: top;\n",
       "    }\n",
       "\n",
       "    .dataframe thead th {\n",
       "        text-align: right;\n",
       "    }\n",
       "</style>\n",
       "<table border=\"1\" class=\"dataframe\">\n",
       "  <thead>\n",
       "    <tr style=\"text-align: right;\">\n",
       "      <th></th>\n",
       "      <th>User Address</th>\n",
       "      <th>Date/Time</th>\n",
       "      <th>GMT Offset</th>\n",
       "      <th>Action</th>\n",
       "      <th>Return Code</th>\n",
       "      <th>Size</th>\n",
       "    </tr>\n",
       "  </thead>\n",
       "  <tbody>\n",
       "    <tr>\n",
       "      <th>0</th>\n",
       "      <td>64.242.88.10</td>\n",
       "      <td>07/Mar/2004:16:05:49</td>\n",
       "      <td>-0800</td>\n",
       "      <td>GET /twiki/bin/edit/Main/Double_bounce_sender?...</td>\n",
       "      <td>401</td>\n",
       "      <td>12846</td>\n",
       "    </tr>\n",
       "    <tr>\n",
       "      <th>1</th>\n",
       "      <td>64.242.88.10</td>\n",
       "      <td>07/Mar/2004:16:06:51</td>\n",
       "      <td>-0800</td>\n",
       "      <td>GET /twiki/bin/rdiff/TWiki/NewUserTemplate?rev...</td>\n",
       "      <td>200</td>\n",
       "      <td>4523</td>\n",
       "    </tr>\n",
       "    <tr>\n",
       "      <th>2</th>\n",
       "      <td>64.242.88.10</td>\n",
       "      <td>07/Mar/2004:16:10:02</td>\n",
       "      <td>-0800</td>\n",
       "      <td>GET /mailman/listinfo/hsdivision</td>\n",
       "      <td>200</td>\n",
       "      <td>6291</td>\n",
       "    </tr>\n",
       "    <tr>\n",
       "      <th>3</th>\n",
       "      <td>64.242.88.10</td>\n",
       "      <td>07/Mar/2004:16:11:58</td>\n",
       "      <td>-0800</td>\n",
       "      <td>GET /twiki/bin/view/TWiki/WikiSyntax</td>\n",
       "      <td>200</td>\n",
       "      <td>7352</td>\n",
       "    </tr>\n",
       "    <tr>\n",
       "      <th>4</th>\n",
       "      <td>64.242.88.10</td>\n",
       "      <td>07/Mar/2004:16:20:55</td>\n",
       "      <td>-0800</td>\n",
       "      <td>GET /twiki/bin/view/Main/DCCAndPostFix</td>\n",
       "      <td>200</td>\n",
       "      <td>5253</td>\n",
       "    </tr>\n",
       "  </tbody>\n",
       "</table>\n",
       "</div>"
      ],
      "text/plain": [
       "   User Address             Date/Time GMT Offset  \\\n",
       "0  64.242.88.10  07/Mar/2004:16:05:49      -0800   \n",
       "1  64.242.88.10  07/Mar/2004:16:06:51      -0800   \n",
       "2  64.242.88.10  07/Mar/2004:16:10:02      -0800   \n",
       "3  64.242.88.10  07/Mar/2004:16:11:58      -0800   \n",
       "4  64.242.88.10  07/Mar/2004:16:20:55      -0800   \n",
       "\n",
       "                                              Action Return Code   Size  \n",
       "0  GET /twiki/bin/edit/Main/Double_bounce_sender?...         401  12846  \n",
       "1  GET /twiki/bin/rdiff/TWiki/NewUserTemplate?rev...         200   4523  \n",
       "2                   GET /mailman/listinfo/hsdivision         200   6291  \n",
       "3               GET /twiki/bin/view/TWiki/WikiSyntax         200   7352  \n",
       "4             GET /twiki/bin/view/Main/DCCAndPostFix         200   5253  "
      ]
     },
     "execution_count": 58,
     "metadata": {},
     "output_type": "execute_result"
    }
   ],
   "source": [
    "df.head()"
   ]
  },
  {
   "cell_type": "markdown",
   "metadata": {},
   "source": [
    "# Top visiter: "
   ]
  },
  {
   "cell_type": "code",
   "execution_count": 59,
   "metadata": {},
   "outputs": [
    {
     "data": {
      "text/plain": [
       "64.242.88.10                       452\n",
       "10.0.0.153                         270\n",
       "h24-71-236-129.ca.shawcable.net     51\n",
       "cr020r01-3.sac.overture.com         44\n",
       "h24-70-69-74.ca.shawcable.net       32\n",
       "Name: User Address, dtype: int64"
      ]
     },
     "execution_count": 59,
     "metadata": {},
     "output_type": "execute_result"
    }
   ],
   "source": [
    "df['User Address'].value_counts().head(5)"
   ]
  },
  {
   "cell_type": "markdown",
   "metadata": {},
   "source": [
    "# Top visited page"
   ]
  },
  {
   "cell_type": "code",
   "execution_count": 60,
   "metadata": {},
   "outputs": [
    {
     "data": {
      "text/plain": [
       "GET /twiki/pub/TWiki/TWikiLogos/twikiRobot46x50.gif    64\n",
       "GET /                                                  47\n",
       "GET /twiki/bin/view/Main/WebHome                       41\n",
       "GET /icons/mailman.jpg                                 37\n",
       "GET /icons/PythonPowered.png                           37\n",
       "Name: Action, dtype: int64"
      ]
     },
     "execution_count": 60,
     "metadata": {},
     "output_type": "execute_result"
    }
   ],
   "source": [
    "df['Action'].value_counts().head(5)"
   ]
  },
  {
   "cell_type": "code",
   "execution_count": null,
   "metadata": {},
   "outputs": [],
   "source": []
  }
 ],
 "metadata": {
  "kernelspec": {
   "display_name": "Python 3",
   "language": "python",
   "name": "python3"
  },
  "language_info": {
   "codemirror_mode": {
    "name": "ipython",
    "version": 3
   },
   "file_extension": ".py",
   "mimetype": "text/x-python",
   "name": "python",
   "nbconvert_exporter": "python",
   "pygments_lexer": "ipython3",
   "version": "3.8.5"
  }
 },
 "nbformat": 4,
 "nbformat_minor": 4
}
