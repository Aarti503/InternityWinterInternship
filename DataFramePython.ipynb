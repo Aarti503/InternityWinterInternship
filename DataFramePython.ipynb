{
 "cells": [
  {
   "cell_type": "code",
   "execution_count": 2,
   "metadata": {},
   "outputs": [
    {
     "name": "stdout",
     "output_type": "stream",
     "text": [
      "Enter Link To Read Data https://raw.githubusercontent.com/usama6naseer/largest_object/master/log.csv\n",
      "    9          qq.com\n",
      "0  11      taobao.com\n",
      "1  12     twitter.com\n",
      "2  15          vk.com\n",
      "3  16        live.com\n",
      "4  21       weibo.com\n",
      "5  26  list.tmall.com\n",
      "6  39       imgur.com\n",
      "7  43     onclkds.com\n",
      "8  44          gmw.cn\n",
      "9  50  livejasmin.com\n"
     ]
    }
   ],
   "source": [
    "import pandas as pd\n",
    "\n",
    "def read_data(link):\n",
    "    x = pd.read_csv(link)\n",
    "    print(x.head(10))\n",
    "link = input(\"Enter Link To Read Data \")\n",
    "read_data(link)"
   ]
  },
  {
   "cell_type": "code",
   "execution_count": null,
   "metadata": {},
   "outputs": [],
   "source": []
  }
 ],
 "metadata": {
  "kernelspec": {
   "display_name": "Python 3",
   "language": "python",
   "name": "python3"
  },
  "language_info": {
   "codemirror_mode": {
    "name": "ipython",
    "version": 3
   },
   "file_extension": ".py",
   "mimetype": "text/x-python",
   "name": "python",
   "nbconvert_exporter": "python",
   "pygments_lexer": "ipython3",
   "version": "3.8.5"
  }
 },
 "nbformat": 4,
 "nbformat_minor": 4
}
